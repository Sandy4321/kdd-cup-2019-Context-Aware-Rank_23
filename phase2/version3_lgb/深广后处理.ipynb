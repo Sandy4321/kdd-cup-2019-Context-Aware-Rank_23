{
 "cells": [
  {
   "cell_type": "code",
   "execution_count": 1,
   "metadata": {},
   "outputs": [],
   "source": [
    "import numpy as np\n",
    "import pandas as pd\n",
    "import lightgbm as lgb\n",
    "import os\n",
    "\n",
    "import seaborn as sns\n",
    "import matplotlib.pyplot as plt\n",
    "%matplotlib inline\n",
    "\n",
    "import warnings\n",
    "warnings.filterwarnings(\"ignore\")\n",
    "\n",
    "from tqdm import tqdm\n",
    "import json \n",
    "from sklearn.metrics import f1_score\n",
    "from sklearn.model_selection import StratifiedKFold\n",
    "from sklearn.feature_extraction.text import TfidfVectorizer\n",
    "from sklearn.decomposition import TruncatedSVD\n",
    "from itertools import product\n",
    "import ast"
   ]
  },
  {
   "cell_type": "code",
   "execution_count": null,
   "metadata": {},
   "outputs": [],
   "source": []
  },
  {
   "cell_type": "code",
   "execution_count": null,
   "metadata": {},
   "outputs": [],
   "source": []
  },
  {
   "cell_type": "code",
   "execution_count": null,
   "metadata": {},
   "outputs": [],
   "source": []
  },
  {
   "cell_type": "code",
   "execution_count": 23,
   "metadata": {},
   "outputs": [],
   "source": [
    "proba=pd.read_csv('./shenzhen_2019-06-19_20_43_sub_prob_val.csv')\n",
    "#proba = lgb_model.predict_proba(valid_x)\n",
    "the_before_score=0"
   ]
  },
  {
   "cell_type": "code",
   "execution_count": 62,
   "metadata": {},
   "outputs": [],
   "source": [
    "val_flag=pd.read_csv('./sg_6654_val_y.csv',header=None)\n",
    "val_flag\n",
    "val_flag=val_flag[1].astype(int)\n",
    "\n",
    "valid_y=val_flag.values\n",
    "#valid_y=val_flag"
   ]
  },
  {
   "cell_type": "code",
   "execution_count": 63,
   "metadata": {},
   "outputs": [
    {
     "data": {
      "text/plain": [
       "array([ 0,  7,  0, ..., 10,  7,  0])"
      ]
     },
     "execution_count": 63,
     "metadata": {},
     "output_type": "execute_result"
    }
   ],
   "source": [
    "valid_y"
   ]
  },
  {
   "cell_type": "code",
   "execution_count": 52,
   "metadata": {},
   "outputs": [
    {
     "ename": "AttributeError",
     "evalue": "'numpy.ndarray' object has no attribute 'values'",
     "output_type": "error",
     "traceback": [
      "\u001b[1;31m---------------------------------------------------------------------------\u001b[0m",
      "\u001b[1;31mAttributeError\u001b[0m                            Traceback (most recent call last)",
      "\u001b[1;32m<ipython-input-52-db99dc0891e3>\u001b[0m in \u001b[0;36m<module>\u001b[1;34m\u001b[0m\n\u001b[1;32m----> 1\u001b[1;33m \u001b[0mproba\u001b[0m\u001b[1;33m=\u001b[0m\u001b[0mproba\u001b[0m\u001b[1;33m.\u001b[0m\u001b[0mvalues\u001b[0m\u001b[1;33m\u001b[0m\u001b[0m\n\u001b[0m",
      "\u001b[1;31mAttributeError\u001b[0m: 'numpy.ndarray' object has no attribute 'values'"
     ]
    }
   ],
   "source": [
    "proba=proba.values\n"
   ]
  },
  {
   "cell_type": "code",
   "execution_count": 30,
   "metadata": {},
   "outputs": [
    {
     "ename": "AttributeError",
     "evalue": "'numpy.ndarray' object has no attribute 'columns'",
     "output_type": "error",
     "traceback": [
      "\u001b[1;31m---------------------------------------------------------------------------\u001b[0m",
      "\u001b[1;31mAttributeError\u001b[0m                            Traceback (most recent call last)",
      "\u001b[1;32m<ipython-input-30-aa4bae2b3f79>\u001b[0m in \u001b[0;36m<module>\u001b[1;34m\u001b[0m\n\u001b[1;32m----> 1\u001b[1;33m \u001b[0mproba\u001b[0m\u001b[1;33m.\u001b[0m\u001b[0mcolumns\u001b[0m\u001b[1;33m.\u001b[0m\u001b[0mvalues\u001b[0m\u001b[1;33m\u001b[0m\u001b[0m\n\u001b[0m",
      "\u001b[1;31mAttributeError\u001b[0m: 'numpy.ndarray' object has no attribute 'columns'"
     ]
    }
   ],
   "source": [
    "proba.columns.values"
   ]
  },
  {
   "cell_type": "code",
   "execution_count": 40,
   "metadata": {},
   "outputs": [
    {
     "data": {
      "text/plain": [
       "(123572, 12)"
      ]
     },
     "execution_count": 40,
     "metadata": {},
     "output_type": "execute_result"
    }
   ],
   "source": [
    "proba.shape"
   ]
  },
  {
   "cell_type": "code",
   "execution_count": 41,
   "metadata": {},
   "outputs": [
    {
     "data": {
      "text/plain": [
       "(123572, 2)"
      ]
     },
     "execution_count": 41,
     "metadata": {},
     "output_type": "execute_result"
    }
   ],
   "source": [
    "val_flag.shape\n"
   ]
  },
  {
   "cell_type": "code",
   "execution_count": 51,
   "metadata": {},
   "outputs": [
    {
     "data": {
      "text/plain": [
       "array([[0.00000e+00, 0.00000e+00],\n",
       "       [1.00000e+00, 7.00000e+00],\n",
       "       [2.00000e+00, 0.00000e+00],\n",
       "       ...,\n",
       "       [1.23569e+05, 1.00000e+01],\n",
       "       [1.23570e+05, 7.00000e+00],\n",
       "       [1.23571e+05, 0.00000e+00]])"
      ]
     },
     "execution_count": 51,
     "metadata": {},
     "output_type": "execute_result"
    }
   ],
   "source": [
    "valid_y"
   ]
  },
  {
   "cell_type": "code",
   "execution_count": null,
   "metadata": {},
   "outputs": [],
   "source": []
  },
  {
   "cell_type": "code",
   "execution_count": 102,
   "metadata": {},
   "outputs": [
    {
     "name": "stdout",
     "output_type": "stream",
     "text": [
      "offline_f1_score: 0.6689592083922445\n"
     ]
    }
   ],
   "source": [
    "\n",
    "def pred_proba(proba):\n",
    "    res = []\n",
    "    #print(proba)\n",
    "#    pred_proba.tolist()\n",
    "    for i, row in enumerate(proba):\n",
    "        row1=list(row)\n",
    "        if row[0] >= 0.4152:\n",
    "            row1[0] = 1\n",
    "#         if row[1] >= 0.4662:\n",
    "#             row[1] = 1\n",
    "#         if row[2] >= 0.5072:\n",
    "#             row[2] = 1\n",
    "#         if row[3] >= 0.1344:\n",
    "#             row[3] = 1\n",
    "#         if row[4] >= 0.0933:\n",
    "#             row[4] = 1\n",
    "#         if row[5] > 0.4216:\n",
    "#             row[5] = 1\n",
    "#         if row[6] > 0.1425:\n",
    "#             row[6] = 1\n",
    "#         if row[7] > 0.34850:\n",
    "#             row[7] = 1\n",
    "#         if row[8] > 0.1264:\n",
    "#             row[8] = 1\n",
    "#         if row[9] >  0.2723:\n",
    "#             row[9] = 1\n",
    "#         if row[10] > 0.2143:\n",
    "#             row[10] = 1\n",
    "#         if row[11] > 0.3463:\n",
    "#             row[11] = 1\n",
    "        res.append(row1)\n",
    "\n",
    "\n",
    "    df = pd.DataFrame(res)\n",
    "    pred=[]\n",
    "    pred = df.idxmax(axis = 1)\n",
    "    #print(pred)\n",
    "    return pred\n",
    "\n",
    "\n",
    "\n",
    "#预测结果分析\n",
    "import gc\n",
    "gc.collect()\n",
    "\n",
    "the_before_score=proba\n",
    "#print('beefore_f1_score:', score)\n",
    "pred = pred_proba(proba)\n",
    "score=f1_score(valid_y, pred, average='weighted')\n",
    "print('offline_f1_score:', score)"
   ]
  },
  {
   "cell_type": "code",
   "execution_count": null,
   "metadata": {},
   "outputs": [],
   "source": []
  },
  {
   "cell_type": "code",
   "execution_count": null,
   "metadata": {},
   "outputs": [],
   "source": []
  },
  {
   "cell_type": "code",
   "execution_count": null,
   "metadata": {},
   "outputs": [],
   "source": []
  },
  {
   "cell_type": "code",
   "execution_count": null,
   "metadata": {},
   "outputs": [],
   "source": []
  },
  {
   "cell_type": "code",
   "execution_count": null,
   "metadata": {},
   "outputs": [],
   "source": []
  },
  {
   "cell_type": "code",
   "execution_count": null,
   "metadata": {},
   "outputs": [],
   "source": []
  },
  {
   "cell_type": "code",
   "execution_count": 97,
   "metadata": {},
   "outputs": [
    {
     "name": "stdout",
     "output_type": "stream",
     "text": [
      "当前索引坐标: 0\n",
      "0          0\n",
      "1         11\n",
      "2         10\n",
      "3          1\n",
      "4          5\n",
      "5          0\n",
      "6          0\n",
      "7          2\n",
      "8          5\n",
      "9          2\n",
      "10         7\n",
      "11         0\n",
      "12         2\n",
      "13         9\n",
      "14         2\n",
      "15         5\n",
      "16         9\n",
      "17         9\n",
      "18         1\n",
      "19         9\n",
      "20         7\n",
      "21         0\n",
      "22         2\n",
      "23         7\n",
      "24         2\n",
      "25         2\n",
      "26         7\n",
      "27         9\n",
      "28         2\n",
      "29         0\n",
      "          ..\n",
      "123542     3\n",
      "123543     9\n",
      "123544     2\n",
      "123545     2\n",
      "123546    11\n",
      "123547     9\n",
      "123548     2\n",
      "123549     1\n",
      "123550     9\n",
      "123551     1\n",
      "123552     0\n",
      "123553     0\n",
      "123554     9\n",
      "123555     7\n",
      "123556     5\n",
      "123557     9\n",
      "123558     2\n",
      "123559     0\n",
      "123560     0\n",
      "123561     0\n",
      "123562     0\n",
      "123563     1\n",
      "123564     2\n",
      "123565     0\n",
      "123566     0\n",
      "123567     7\n",
      "123568     1\n",
      "123569    10\n",
      "123570    11\n",
      "123571     0\n",
      "Length: 123572, dtype: int64\n",
      "offline_f1_score: 0.6689592083922445\n",
      "当前索引坐标: 1\n",
      "当前索引坐标: 2\n",
      "当前索引坐标: 3\n",
      "当前索引坐标: 4\n",
      "当前索引坐标: 5\n",
      "当前索引坐标: 6\n",
      "当前索引坐标: 7\n",
      "当前索引坐标: 8\n",
      "当前索引坐标: 9\n",
      "当前索引坐标: 10\n",
      "当前索引坐标: 11\n"
     ]
    }
   ],
   "source": [
    "for kk in range(0,12):\n",
    "    print('当前索引坐标:',kk)\n",
    "    #proba = lgb_model.predict_proba(valid_x)\n",
    "    if kk  in [3,10,1,11,7,2,4,9,5,6,8]:\n",
    "           continue\n",
    "    def pred_proba(proba):\n",
    "        res = []\n",
    "        #print(proba)\n",
    "    #    pred_proba.tolist()\n",
    "        for i, row in enumerate(proba):\n",
    "            row1=list(row)\n",
    "            if row[0] >= 0.4052:\n",
    "                row[0] = 1\n",
    "            if row[1] >= 0.4662:\n",
    "                row[1] = 1\n",
    "            if row[2] >= 0.5072:\n",
    "                row[2] = 1\n",
    "                \n",
    "            if row[3] >= 0.1344:\n",
    "                row[3] = 1\n",
    "            if row[4] >= 0.0933:\n",
    "                row[4] = 1\n",
    "            if row[5] > 0.4216:\n",
    "                row[5] = 1\n",
    "            if row[6] > 0.1425:\n",
    "                row[6] = 1\n",
    "            if row[7] > 0.34850:\n",
    "                row[7] = 1\n",
    "            if row[8] > 0.1264:\n",
    "                row[8] = 1\n",
    "            if row[9] >  0.2723:\n",
    "                row[9] = 1\n",
    "            if row[10] > 0.2143:\n",
    "                row[10] = 1\n",
    "            if row[11] > 0.3463:\n",
    "                row[11] = 1\n",
    "            res.append(row)\n",
    "\n",
    "\n",
    "        df = pd.DataFrame(res)\n",
    "        #print('duide:',df)\n",
    "    #     bushi_1_count=0                                 #    4961  个  不止1个判断结果的。\n",
    "    #     for index,row in df.iterrows():\n",
    "    #         if 1.0 in list(row):\n",
    "    #             bushi_count=list(row).count(1)\n",
    "    #             if bushi_count>1:\n",
    "    #                 bushi_1_count=bushi_1_count+1\n",
    "\n",
    "    #     print(bushi_1_count)\n",
    "        pred=[]\n",
    "        \n",
    "        \n",
    "#         for ind,row in df.iterrows():\n",
    "#             row=list(row)\n",
    "#             if 1.0 in list(row):\n",
    "#                 if row[3]==1:\n",
    "#                     pred.append(3)\n",
    "#                 elif row[10]==1:\n",
    "#                     pred.append(10)\n",
    "#                 elif row[1]==1:\n",
    "#                     pred.append(1)\n",
    "#                 elif row[2]==1:\n",
    "#                     pred.append(2)\n",
    "#                 elif row[11]==1:\n",
    "#                     pred.append(11)\n",
    "#                 elif row[0]==1:\n",
    "#                     pred.append(0)\n",
    "#                 elif row[7]==1:\n",
    "#                     pred.append(7)\n",
    "#                 elif row[5]==1:\n",
    "#                     pred.append(5)\n",
    "#                 elif row[4]==1:\n",
    "#                     pred.append(4)\n",
    "#                 elif row[5]==1:\n",
    "#                     pred.append(5)\n",
    "#                 elif row[9]==1:\n",
    "#                     pred.append(9)\n",
    "#                 elif row[6]==1:\n",
    "#                     pred.append(6)\n",
    "#                 elif row[8]==1:\n",
    "#                     pred.append(8)\n",
    "                \n",
    "# #                 elif row[3]==1:\n",
    "# #                     pred.append(3)   \n",
    "# #                 elif row[10]==1:\n",
    "# #                     pred.append(10)  \n",
    "# #                 elif row[11]==1:\n",
    "# #                     pred.append(11) \n",
    "# #                 elif row[0]==1:\n",
    "# #                     pred.append(0)\n",
    "# #                 elif row[kk]==1:\n",
    "# #                     pred.append(kk)\n",
    "#                 else:\n",
    "#                     pred.append(list(row).index(max(row)))\n",
    "#             else:\n",
    "#                 pred.append(row.index(max(row)))\n",
    "\n",
    "        pred = df.idxmax(axis = 1)\n",
    "        print(pred)\n",
    "        return pred\n",
    "    \n",
    "    \n",
    "    \n",
    "    #预测结果分析\n",
    "    import gc\n",
    "    gc.collect()\n",
    "\n",
    "    the_before_score=proba\n",
    "    #print('beefore_f1_score:', score)\n",
    "    pred = pred_proba(proba)\n",
    "    score=f1_score(valid_y, pred, average='weighted')\n",
    "    print('offline_f1_score:', score)\n",
    "#     df_analysis = pd.DataFrame()\n",
    "#     df_analysis['sid']   = data[valid_index]['sid']\n",
    "#     df_analysis['label'] = valid_y.values\n",
    "#     df_analysis['pred']  = pred\n",
    "#     df_analysis['label'] = df_analysis['label'].astype(int)\n",
    "\n",
    "#     score_df = pd.DataFrame(\n",
    "#         columns=['class_id', 'counts*f1_score', 'f1_score', 'precision', 'recall'])\n",
    "\n",
    "#     from sklearn.metrics import accuracy_score\n",
    "#     from sklearn.metrics import accuracy_score,recall_score,precision_score\n",
    "#     dic_ = df_analysis['label'].value_counts(normalize = True)\n",
    "#     def get_weighted_fscore(y_pred, y_true):\n",
    "#         f_score = 0\n",
    "#         for i in range(12):\n",
    "#             yt = y_true == i\n",
    "#             yp = y_pred == i\n",
    "#             f_score += dic_[i] * f1_score(y_true=yt, y_pred= yp)\n",
    "#             score_df.loc[i] = i,dic_[i],f1_score(y_true=yt, y_pred= yp), precision_score(y_true=yt, y_pred= yp),recall_score(y_true=yt, y_pred= yp)\n",
    "#         print('f_score:', f_score)\n",
    "#         return score_df\n",
    "#     score_df = get_weighted_fscore(y_true =df_analysis['label'] , y_pred = df_analysis['pred'])\n",
    "#     print(score_df) "
   ]
  },
  {
   "cell_type": "code",
   "execution_count": null,
   "metadata": {},
   "outputs": [],
   "source": []
  }
 ],
 "metadata": {
  "kernelspec": {
   "display_name": "Python 3",
   "language": "python",
   "name": "python3"
  },
  "language_info": {
   "codemirror_mode": {
    "name": "ipython",
    "version": 3
   },
   "file_extension": ".py",
   "mimetype": "text/x-python",
   "name": "python",
   "nbconvert_exporter": "python",
   "pygments_lexer": "ipython3",
   "version": "3.6.6"
  }
 },
 "nbformat": 4,
 "nbformat_minor": 2
}
