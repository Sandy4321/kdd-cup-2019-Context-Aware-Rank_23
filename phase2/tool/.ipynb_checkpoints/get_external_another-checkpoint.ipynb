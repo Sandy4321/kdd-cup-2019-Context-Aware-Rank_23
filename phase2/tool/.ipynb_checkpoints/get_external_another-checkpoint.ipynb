{
 "cells": [
  {
   "cell_type": "code",
   "execution_count": 9,
   "metadata": {},
   "outputs": [],
   "source": [
    "import pandas as pd\n",
    "import urllib.request\n",
    "import json\n",
    "import re\n",
    "import time\n",
    "from urllib.parse import quote"
   ]
  },
  {
   "cell_type": "code",
   "execution_count": 10,
   "metadata": {},
   "outputs": [],
   "source": [
    "address_all_info=pd.read_csv('./address_all_info.csv',index_col=0)\n",
    "len(address_all_info['address'])\n",
    "\n",
    "address_all_info['address_lng'] = address_all_info['address'].apply(lambda x: float(x.split(',')[0]))\n",
    "address_all_info['address_lat'] = address_all_info['address'].apply(lambda x: float(x.split(',')[1]))"
   ]
  },
  {
   "cell_type": "code",
   "execution_count": 11,
   "metadata": {},
   "outputs": [
    {
     "data": {
      "text/plain": [
       "16964"
      ]
     },
     "execution_count": 11,
     "metadata": {},
     "output_type": "execute_result"
    }
   ],
   "source": [
    "len(set(address_all_info['address']))"
   ]
  },
  {
   "cell_type": "code",
   "execution_count": null,
   "metadata": {},
   "outputs": [
    {
     "name": "stderr",
     "output_type": "stream",
     "text": [
      "\n",
      "\n",
      "\n",
      "\n",
      "\n",
      "\n",
      "0it [00:00, ?it/s]\n",
      "\n",
      "\n",
      "\n",
      "\n",
      "\n",
      "1it [00:02,  2.40s/it]"
     ]
    }
   ],
   "source": [
    "import re\n",
    "from tqdm import tqdm\n",
    "Subway_number_list=[]\n",
    "Bus_number_list=[]\n",
    "Hospital_number_list=[]\n",
    "University_number_list=[]\n",
    "Middle_School_number_list=[]\n",
    "Residential_number_list=[]\n",
    "Office_number_list=[]\n",
    "Gourmet_number_list=[]\n",
    "Entertainment_number_list=[]\n",
    "Financial_number_list=[]\n",
    "Tourism_number_list=[]\n",
    "Railway_Station_number_list=[]\n",
    "Airport_number_list=[]\n",
    "Office_building_number_list=[]\n",
    "mall_list=[]\n",
    "for r_i, row  in  tqdm(address_all_info.iterrows()):\n",
    "    lng=row['address_lng']\n",
    "    lat=row['address_lat']    \n",
    "    \n",
    "    ####################    写字楼    #####################\n",
    "    resp_orig = urllib.request.urlopen('http://api.map.baidu.com/place/v2/search?query='+quote('写字楼')+'&location='+str(lat)+','+str(lng)+'&radius=1000&output=xml&ak=LlNVsWOsqmKwlqkUEBmzbpmbu2GAc2Dl')\n",
    "    #print('http://api.map.baidu.com/place/v2/search?query='+quote('公交')+'&location='+str(lat)+','+str(lng)+'&radius=10&output=xml&ak=LlNVsWOsqmKwlqkUEBmzbpmbu2GAc2Dl')\n",
    "    resp_str=str(resp_orig.read().decode('utf8'))\n",
    "\n",
    "\n",
    "    regex = re.compile(\"uid\")\n",
    "    # 调用 findall 函数\n",
    "    Office_building_number_list.append(len(regex.findall(resp_str))/2)\n",
    "    ####################    医院    #####################\n",
    "    resp_orig = urllib.request.urlopen('http://api.map.baidu.com/place/v2/search?query='+quote('医院')+'&location='+str(lat)+','+str(lng)+'&radius=1000&output=xml&ak=LlNVsWOsqmKwlqkUEBmzbpmbu2GAc2Dl')\n",
    "    #print('http://api.map.baidu.com/place/v2/search?query='+quote('公交')+'&location='+str(lat)+','+str(lng)+'&radius=10&output=xml&ak=LlNVsWOsqmKwlqkUEBmzbpmbu2GAc2Dl')\n",
    "    resp_str=str(resp_orig.read().decode('utf8'))\n",
    "\n",
    "    time.sleep(1) \n",
    "    regex = re.compile(\"uid\")\n",
    "    # 调用 findall 函数\n",
    "    Hospital_number_list.append(len(regex.findall(resp_str))/2)    \n",
    "    ####################    商场    #####################\n",
    "    resp_orig = urllib.request.urlopen('http://api.map.baidu.com/place/v2/search?query='+quote('商场')+'&location='+str(lat)+','+str(lng)+'&radius=1000&output=xml&ak=LlNVsWOsqmKwlqkUEBmzbpmbu2GAc2Dl')\n",
    "    #print('http://api.map.baidu.com/place/v2/search?query='+quote('公交')+'&location='+str(lat)+','+str(lng)+'&radius=10&output=xml&ak=LlNVsWOsqmKwlqkUEBmzbpmbu2GAc2Dl')\n",
    "    resp_str=str(resp_orig.read().decode('utf8'))\n",
    "\n",
    "\n",
    "    regex = re.compile(\"uid\")\n",
    "    # 调用 findall 函数\n",
    "    mall_list.append(len(regex.findall(resp_str))/2)\n",
    "    time.sleep(1)   \n",
    "    \n"
   ]
  },
  {
   "cell_type": "code",
   "execution_count": null,
   "metadata": {},
   "outputs": [],
   "source": [
    "address_all_info['Office_building_number_list']=Office_building_number_list\n",
    "address_all_info['mill_number_list']=mall_list\n",
    "address_all_info['Hospital_number_list']=Hospital_number_list\n",
    "address_all_info.to_csv('./address_all_info_final_hospital.csv')"
   ]
  },
  {
   "cell_type": "code",
   "execution_count": null,
   "metadata": {},
   "outputs": [],
   "source": []
  }
 ],
 "metadata": {
  "kernelspec": {
   "display_name": "Python 3",
   "language": "python",
   "name": "python3"
  },
  "language_info": {
   "codemirror_mode": {
    "name": "ipython",
    "version": 3
   },
   "file_extension": ".py",
   "mimetype": "text/x-python",
   "name": "python",
   "nbconvert_exporter": "python",
   "pygments_lexer": "ipython3",
   "version": "3.6.6"
  }
 },
 "nbformat": 4,
 "nbformat_minor": 2
}
