{
 "cells": [
  {
   "cell_type": "code",
   "execution_count": 18,
   "metadata": {},
   "outputs": [
    {
     "data": {
      "text/html": [
       "<style>.container { width:90% !important; }</style>"
      ],
      "text/plain": [
       "<IPython.core.display.HTML object>"
      ]
     },
     "metadata": {},
     "output_type": "execute_result"
    }
   ],
   "source": [
    "from IPython.core.display import display, HTML\n",
    "display(HTML(\"<style>.container { width:90% !important; }</style>\"))\n",
    "\n",
    "import numpy as np \n",
    "import pandas as pd \n",
    "import matplotlib.pyplot as plt\n",
    "import seaborn as sns\n",
    "\n",
    "%matplotlib inline\n",
    "pd.set_option('display.max_columns', 100)\n",
    "pd.set_option('max_colwidth', 500)\n",
    "\n",
    "import warnings\n",
    "import gc\n",
    "import time\n",
    "from tqdm import tqdm\n",
    "tqdm.pandas()\n",
    "\n",
    "#import urllib\n",
    "#import sys\n",
    "#import urllib.request\n",
    "from urllib.request import urlopen\n",
    "from urllib.parse import quote\n",
    "import json\n",
    "import requests"
   ]
  },
  {
   "cell_type": "markdown",
   "metadata": {},
   "source": [
    "#### POI\n",
    "地铁, 公交, 医院, 大学, 中学, 住宅, 写字楼, 美食, 娱乐, 金融, 旅游, 火车站, 机场"
   ]
  },
  {
   "cell_type": "code",
   "execution_count": null,
   "metadata": {},
   "outputs": [],
   "source": [
    "#trial\n",
    "json.load(urlopen('http://api.map.baidu.com/place/v2/search?query=%E5%85%AC%E4%BA%A4%E7%AB%99&bounds=39.7749,115.4349,39.7851,115.4451&output=json&page_size=20&coord_type=1&ak=你的ak'))"
   ]
  },
  {
   "cell_type": "code",
   "execution_count": 19,
   "metadata": {
    "scrolled": true
   },
   "outputs": [
    {
     "ename": "NameError",
     "evalue": "name 'coor_df' is not defined",
     "traceback": [
      "\u001b[1;31m---------------------------------------------------------------------------\u001b[0m",
      "\u001b[1;31mNameError\u001b[0m                                 Traceback (most recent call last)",
      "\u001b[1;32m<ipython-input-19-42912197f4a7>\u001b[0m in \u001b[0;36m<module>\u001b[1;34m\u001b[0m\n\u001b[0;32m      1\u001b[0m \u001b[1;31m#coor_df - dataframe of unique coordinates\u001b[0m\u001b[1;33m\u001b[0m\u001b[1;33m\u001b[0m\u001b[0m\n\u001b[1;32m----> 2\u001b[1;33m \u001b[0mcoor_df\u001b[0m\u001b[1;33m[\u001b[0m\u001b[1;34m'tube_stops'\u001b[0m\u001b[1;33m]\u001b[0m \u001b[1;33m=\u001b[0m \u001b[1;33m-\u001b[0m\u001b[1;36m1\u001b[0m\u001b[1;33m\u001b[0m\u001b[0m\n\u001b[0m\u001b[0;32m      3\u001b[0m \u001b[0mtube_stops\u001b[0m \u001b[1;33m=\u001b[0m \u001b[1;33m[\u001b[0m\u001b[1;33m]\u001b[0m\u001b[1;33m\u001b[0m\u001b[0m\n\u001b[0;32m      4\u001b[0m \u001b[1;31m#unique_coor = coor_df['coordinates'].tolist()\u001b[0m\u001b[1;33m\u001b[0m\u001b[1;33m\u001b[0m\u001b[0m\n\u001b[0;32m      5\u001b[0m \u001b[1;32mfor\u001b[0m \u001b[0mi\u001b[0m \u001b[1;32min\u001b[0m \u001b[0mtqdm\u001b[0m\u001b[1;33m(\u001b[0m\u001b[0mrange\u001b[0m\u001b[1;33m(\u001b[0m\u001b[1;36m6525\u001b[0m\u001b[1;33m)\u001b[0m\u001b[1;33m)\u001b[0m\u001b[1;33m:\u001b[0m\u001b[1;33m\u001b[0m\u001b[0m\n",
      "\u001b[1;31mNameError\u001b[0m: name 'coor_df' is not defined"
     ],
     "output_type": "error"
    }
   ],
   "source": [
    "#coor_df - dataframe of unique coordinates\n",
    "coor_df['tube_stops'] = -1\n",
    "tube_stops = []\n",
    "#unique_coor = coor_df['coordinates'].tolist()\n",
    "for i in tqdm(range(6525)):\n",
    "    #lat_lng = [float(x) for x in i.split(',')]\n",
    "    lat = coor_df.at[i, 'lat']\n",
    "    lng = coor_df.at[i, 'lng']\n",
    "    \n",
    "    lat_0 = round(lat - 0.0051, 4)\n",
    "    lng_0 = round(lng - 0.0051, 4)\n",
    "    lat_1 = round(lat + 0.0051, 4)\n",
    "    lng_1 = round(lng + 0.0051, 4)\n",
    "    \n",
    "    url = 'http://api.map.baidu.com/place/v2/search?query=' + quote('地铁站') + f'&bounds={lat_0},{lng_0},{lat_1},{lng_1}&output=json&page_size=20&coord_type=1&ak=你的ak'\n",
    "    response = urlopen(url)\n",
    "    \n",
    "    #print (url)\n",
    "    page = json.load(response)\n",
    "    #total_results = json.load(response)['total']\n",
    "    \n",
    "    tube_stops.append(page)\n",
    "    coor_df.at[i, 'tube_stops'] = int(page['total'])\n",
    "\n",
    "    time.sleep(1)\n"
   ]
  },
  {
   "cell_type": "code",
   "execution_count": null,
   "metadata": {},
   "outputs": [],
   "source": [
    "np.save('tube_stops.npy', np.array(bus_stops))"
   ]
  },
  {
   "cell_type": "code",
   "execution_count": 11,
   "metadata": {},
   "outputs": [
    {
     "name": "stderr",
     "output_type": "stream",
     "text": [
      "100%|██████████████████████████████████████████████████████████████████████████████| 6525/6525 [21:07<00:00,  5.71it/s]\n"
     ]
    }
   ],
   "source": [
    "# 坐标转换爬虫\n",
    "for i in tqdm(range(6525)):\n",
    "    lat = coor_df.at[i, 'lat']\n",
    "    lng = coor_df.at[i, 'lng']\n",
    "    \n",
    "    url_bd = f'http://api.map.baidu.com/geoconv/v1/?coords={lng},{lat}&from=1&to=5&ak=你的ak'\n",
    "    response_bd = urlopen(url_bd)\n",
    "    \n",
    "    result = json.load(response_bd)['result'][0]\n",
    "    \n",
    "    #print (result['x'])\n",
    "    coor_df.at[i, 'lng_bd'] = round(result['x'], 6)\n",
    "    coor_df.at[i, 'lat_bd'] = round(result['y'], 6)\n",
    "    \n",
    "    time.sleep(0.1)"
   ]
  },
  {
   "cell_type": "code",
   "execution_count": null,
   "metadata": {},
   "outputs": [],
   "source": [
    "#坐标转换\n",
    "http://api.map.baidu.com/geoconv/v1/?coords=115.47,39.78&from=1&to=5&ak=你的ak"
   ]
  },
  {
   "cell_type": "code",
   "execution_count": null,
   "metadata": {},
   "outputs": [],
   "source": []
  },
  {
   "cell_type": "code",
   "execution_count": null,
   "metadata": {},
   "outputs": [],
   "source": []
  }
 ],
 "metadata": {
  "kernelspec": {
   "display_name": "Python 3",
   "language": "python",
   "name": "python3"
  },
  "language_info": {
   "codemirror_mode": {
    "name": "ipython",
    "version": 3
   },
   "file_extension": ".py",
   "mimetype": "text/x-python",
   "name": "python",
   "nbconvert_exporter": "python",
   "pygments_lexer": "ipython3",
   "version": "3.6.6"
  },
  "toc": {
   "nav_menu": {},
   "number_sections": false,
   "sideBar": true,
   "skip_h1_title": false,
   "toc_cell": false,
   "toc_position": {},
   "toc_section_display": "block",
   "toc_window_display": false
  }
 },
 "nbformat": 4,
 "nbformat_minor": 2
}
